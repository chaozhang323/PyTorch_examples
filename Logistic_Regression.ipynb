{
 "cells": [
  {
   "cell_type": "code",
   "execution_count": 2,
   "metadata": {},
   "outputs": [],
   "source": [
    "import torch\n",
    "import torch.nn as nn\n",
    "import torchvision\n",
    "import torchvision.transforms as transforms"
   ]
  },
  {
   "cell_type": "markdown",
   "metadata": {},
   "source": [
    "## Hyperparameters"
   ]
  },
  {
   "cell_type": "code",
   "execution_count": 3,
   "metadata": {},
   "outputs": [],
   "source": [
    "input_size = 28 * 28    # 784\n",
    "num_classes = 10\n",
    "num_epochs = 5\n",
    "batch_size = 100\n",
    "learning_rate = 0.001"
   ]
  },
  {
   "cell_type": "markdown",
   "metadata": {},
   "source": [
    "## MNIST dataset (images and labels)"
   ]
  },
  {
   "cell_type": "code",
   "execution_count": 4,
   "metadata": {},
   "outputs": [],
   "source": [
    "\n",
    "train_dataset = torchvision.datasets.MNIST(root='../../data', \n",
    "                                           train=True, \n",
    "                                           transform=transforms.ToTensor(),\n",
    "                                           download=True)\n",
    "\n",
    "test_dataset = torchvision.datasets.MNIST(root='../../data', \n",
    "                                          train=False, \n",
    "                                          transform=transforms.ToTensor())\n",
    "\n",
    "# Data loader (input pipeline)\n",
    "train_loader = torch.utils.data.DataLoader(dataset=train_dataset, \n",
    "                                           batch_size=batch_size, \n",
    "                                           shuffle=True)\n",
    "\n",
    "test_loader = torch.utils.data.DataLoader(dataset=test_dataset, \n",
    "                                          batch_size=batch_size, \n",
    "                                          shuffle=False)\n"
   ]
  },
  {
   "cell_type": "markdown",
   "metadata": {},
   "source": [
    "## Logistic regression model"
   ]
  },
  {
   "cell_type": "code",
   "execution_count": 5,
   "metadata": {},
   "outputs": [
    {
     "data": {
      "text/plain": [
       "Linear(in_features=784, out_features=10, bias=True)"
      ]
     },
     "execution_count": 5,
     "metadata": {},
     "output_type": "execute_result"
    }
   ],
   "source": [
    "model = nn.Linear(input_size, num_classes)\n",
    "model"
   ]
  },
  {
   "cell_type": "markdown",
   "metadata": {},
   "source": [
    "## Loss and optimizer function"
   ]
  },
  {
   "cell_type": "code",
   "execution_count": 6,
   "metadata": {},
   "outputs": [],
   "source": [
    "# nn.CrossEntropyLoss() computes softmax internally\n",
    "# softmax function is used to predict class probabilities\n",
    "criterion = nn.CrossEntropyLoss()  \n",
    "optimizer = torch.optim.SGD(model.parameters(), lr=learning_rate)  "
   ]
  },
  {
   "cell_type": "markdown",
   "metadata": {},
   "source": [
    "## Train the model"
   ]
  },
  {
   "cell_type": "code",
   "execution_count": 7,
   "metadata": {},
   "outputs": [
    {
     "name": "stdout",
     "output_type": "stream",
     "text": [
      "Epoch [1/5], Step [100/600], Loss: 2.1607\n",
      "Epoch [1/5], Step [200/600], Loss: 2.0257\n",
      "Epoch [1/5], Step [300/600], Loss: 1.9627\n",
      "Epoch [1/5], Step [400/600], Loss: 1.8634\n",
      "Epoch [1/5], Step [500/600], Loss: 1.8796\n",
      "Epoch [1/5], Step [600/600], Loss: 1.8338\n",
      "Epoch [2/5], Step [100/600], Loss: 1.6997\n",
      "Epoch [2/5], Step [200/600], Loss: 1.6165\n",
      "Epoch [2/5], Step [300/600], Loss: 1.6364\n",
      "Epoch [2/5], Step [400/600], Loss: 1.5526\n",
      "Epoch [2/5], Step [500/600], Loss: 1.5604\n",
      "Epoch [2/5], Step [600/600], Loss: 1.4726\n",
      "Epoch [3/5], Step [100/600], Loss: 1.4046\n",
      "Epoch [3/5], Step [200/600], Loss: 1.4006\n",
      "Epoch [3/5], Step [300/600], Loss: 1.3786\n",
      "Epoch [3/5], Step [400/600], Loss: 1.2838\n",
      "Epoch [3/5], Step [500/600], Loss: 1.3421\n",
      "Epoch [3/5], Step [600/600], Loss: 1.2971\n",
      "Epoch [4/5], Step [100/600], Loss: 1.1625\n",
      "Epoch [4/5], Step [200/600], Loss: 1.2004\n",
      "Epoch [4/5], Step [300/600], Loss: 1.1934\n",
      "Epoch [4/5], Step [400/600], Loss: 1.1389\n",
      "Epoch [4/5], Step [500/600], Loss: 1.0758\n",
      "Epoch [4/5], Step [600/600], Loss: 1.0675\n",
      "Epoch [5/5], Step [100/600], Loss: 1.1322\n",
      "Epoch [5/5], Step [200/600], Loss: 1.1387\n",
      "Epoch [5/5], Step [300/600], Loss: 0.8955\n",
      "Epoch [5/5], Step [400/600], Loss: 1.0489\n",
      "Epoch [5/5], Step [500/600], Loss: 0.9755\n",
      "Epoch [5/5], Step [600/600], Loss: 0.9343\n"
     ]
    }
   ],
   "source": [
    "total_step = len(train_loader)\n",
    "for epoch in range(num_epochs):\n",
    "    for i, (images, labels) in enumerate(train_loader):\n",
    "        # Reshape images to (batch_size, input_size)\n",
    "        images = images.reshape(-1, input_size)\n",
    "        \n",
    "        # Forward pass\n",
    "        outputs = model(images)\n",
    "        loss = criterion(outputs, labels)\n",
    "        \n",
    "        # Backward and optimize\n",
    "        optimizer.zero_grad()\n",
    "        loss.backward()\n",
    "        optimizer.step()\n",
    "        \n",
    "        if (i+1) % 100 == 0:\n",
    "            print ('Epoch [{}/{}], Step [{}/{}], Loss: {:.4f}' \n",
    "                   .format(epoch+1, num_epochs, i+1, total_step, loss.item()))"
   ]
  },
  {
   "cell_type": "markdown",
   "metadata": {},
   "source": [
    "## Test the model"
   ]
  },
  {
   "cell_type": "code",
   "execution_count": 8,
   "metadata": {},
   "outputs": [
    {
     "name": "stdout",
     "output_type": "stream",
     "text": [
      "Accuracy of the model on the 10000 test images: 82 %\n"
     ]
    }
   ],
   "source": [
    "with torch.no_grad():\n",
    "    correct = 0\n",
    "    total = 0\n",
    "    for images, labels in test_loader:\n",
    "        images = images.reshape(-1, input_size)\n",
    "        outputs = model(images)\n",
    "        _, predicted = torch.max(outputs.data, 1)\n",
    "        total += labels.size(0)\n",
    "        correct += (predicted == labels).sum()\n",
    "\n",
    "    print('Accuracy of the model on the 10000 test images: {} %'.format(100 * correct / total))"
   ]
  },
  {
   "cell_type": "code",
   "execution_count": 9,
   "metadata": {},
   "outputs": [
    {
     "name": "stdout",
     "output_type": "stream",
     "text": [
      "The state dic keys: \n",
      "\n",
      " odict_keys(['weight', 'bias'])\n"
     ]
    }
   ],
   "source": [
    "#torch.save(model.state_dict(), 'model.ckpt')\n",
    "print(\"The state dic keys: \\n\\n\", model.state_dict().keys())"
   ]
  }
 ],
 "metadata": {
  "kernelspec": {
   "display_name": "Python 3",
   "language": "python",
   "name": "python3"
  },
  "language_info": {
   "codemirror_mode": {
    "name": "ipython",
    "version": 3
   },
   "file_extension": ".py",
   "mimetype": "text/x-python",
   "name": "python",
   "nbconvert_exporter": "python",
   "pygments_lexer": "ipython3",
   "version": "3.6.8"
  }
 },
 "nbformat": 4,
 "nbformat_minor": 2
}
